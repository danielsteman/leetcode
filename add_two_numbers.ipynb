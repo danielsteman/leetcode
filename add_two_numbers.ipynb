{
 "cells": [
  {
   "cell_type": "code",
   "execution_count": 11,
   "id": "15ebba8c-5698-4514-865b-24c884e45f16",
   "metadata": {},
   "outputs": [],
   "source": [
    "from typing import Optional\n",
    "\n",
    "# Definition for singly-linked list.\n",
    "class ListNode:\n",
    "    def __init__(self, val=0, next=None):\n",
    "        self.val = val\n",
    "        self.next = next\n",
    "        \n",
    "class Solution:\n",
    "    def addTwoNumbers(self, l1: Optional[ListNode], l2: Optional[ListNode]) -> Optional[ListNode]:\n",
    "        n1 = []\n",
    "        n2 = ListNode()\n",
    "        \n",
    "        current = l1\n",
    "        while current:\n",
    "            n1.append(current.val)\n",
    "            current = current.next\n",
    "\n",
    "        current = l2\n",
    "        while current:\n",
    "            \n",
    "            current = current.next\n",
    "            \n",
    "        return n1\n"
   ]
  },
  {
   "cell_type": "code",
   "execution_count": null,
   "id": "9799a448-8c95-40e9-8340-b0f362af4e9e",
   "metadata": {},
   "outputs": [],
   "source": []
  }
 ],
 "metadata": {
  "kernelspec": {
   "display_name": "Python 3 (ipykernel)",
   "language": "python",
   "name": "python3"
  },
  "language_info": {
   "codemirror_mode": {
    "name": "ipython",
    "version": 3
   },
   "file_extension": ".py",
   "mimetype": "text/x-python",
   "name": "python",
   "nbconvert_exporter": "python",
   "pygments_lexer": "ipython3",
   "version": "3.10.9"
  }
 },
 "nbformat": 4,
 "nbformat_minor": 5
}
