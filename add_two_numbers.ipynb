{
 "cells": [
  {
   "cell_type": "code",
   "execution_count": 3,
   "id": "15ebba8c-5698-4514-865b-24c884e45f16",
   "metadata": {},
   "outputs": [],
   "source": [
    "# Definition for singly-linked list.\n",
    "from typing import Optional\n",
    "\n",
    "class ListNode:\n",
    "    def __init__(self, val=0, next=None):\n",
    "        self.val = val\n",
    "        self.next = next\n",
    "class Solution:\n",
    "    def addTwoNumbers(self, l1: Optional[ListNode], l2: Optional[ListNode]) -> Optional[ListNode]:\n",
    "        n1 = []\n",
    "        n2 = []\n",
    "        \n",
    "        current = l1\n",
    "        while current:\n",
    "            n1.append(current.val)\n",
    "            current = current.next\n",
    "\n",
    "        current = l2\n",
    "        while current:\n",
    "            n2.append(current.val)\n",
    "            current = current.next\n",
    "\n",
    "        x1 = \"\".join([str(x) for x in n1][::-1])\n",
    "        x2 = \"\".join([str(x) for x in n2][::-1])\n",
    "\n",
    "        target = int(x1) + int(x2)\n",
    "\n",
    "        def make_linked_list(items):\n",
    "            current = ListNode()\n",
    "            counter = len(items) - 1\n",
    "            while items:\n",
    "                print(counter)\n",
    "                print(items)\n",
    "                current.val = items[counter]\n",
    "                current.next = ListNode()\n",
    "                current = current.next\n",
    "                counter -= 1\n",
    "                items.pop()\n",
    "            return current\n",
    "            \n",
    "        return make_linked_list([8,0,7])"
   ]
  },
  {
   "cell_type": "code",
   "execution_count": null,
   "id": "9799a448-8c95-40e9-8340-b0f362af4e9e",
   "metadata": {},
   "outputs": [],
   "source": []
  }
 ],
 "metadata": {
  "kernelspec": {
   "display_name": "Python 3 (ipykernel)",
   "language": "python",
   "name": "python3"
  },
  "language_info": {
   "codemirror_mode": {
    "name": "ipython",
    "version": 3
   },
   "file_extension": ".py",
   "mimetype": "text/x-python",
   "name": "python",
   "nbconvert_exporter": "python",
   "pygments_lexer": "ipython3",
   "version": "3.10.9"
  }
 },
 "nbformat": 4,
 "nbformat_minor": 5
}
