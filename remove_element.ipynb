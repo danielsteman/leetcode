{
 "cells": [
  {
   "cell_type": "code",
   "execution_count": 1,
   "id": "f6dd41cc-85c1-451c-bf16-92c8375c7946",
   "metadata": {},
   "outputs": [],
   "source": [
    "# Input: nums = [3,2,2,3], val = 3\n",
    "# Output: 2, nums = [2,2,_,_]"
   ]
  },
  {
   "cell_type": "code",
   "execution_count": 3,
   "id": "5cb765df-16b6-4604-a81d-5b3092eff53f",
   "metadata": {},
   "outputs": [],
   "source": [
    "nums = [3,2,2,3]\n",
    "val = 3"
   ]
  },
  {
   "cell_type": "code",
   "execution_count": 22,
   "id": "7e136a1d-3547-4274-bf54-a7d29c1f63b9",
   "metadata": {},
   "outputs": [
    {
     "data": {
      "text/plain": [
       "[2, 2]"
      ]
     },
     "execution_count": 22,
     "metadata": {},
     "output_type": "execute_result"
    }
   ],
   "source": [
    "nums = [3,2,2,3]\n",
    "val = 3\n",
    "\n",
    "nums[:] = [x for x in nums if x != val]\n",
    "nums"
   ]
  },
  {
   "cell_type": "code",
   "execution_count": 6,
   "id": "089764e5-ab1b-4cb8-a4ab-7a0122bc38f9",
   "metadata": {},
   "outputs": [],
   "source": [
    "nums2 = nums.copy()"
   ]
  },
  {
   "cell_type": "code",
   "execution_count": 8,
   "id": "2e3182ea-3cc1-44ce-9b55-6ea1bd16c869",
   "metadata": {},
   "outputs": [
    {
     "data": {
      "text/plain": [
       "3"
      ]
     },
     "execution_count": 8,
     "metadata": {},
     "output_type": "execute_result"
    }
   ],
   "source": [
    "nums2.pop(val)"
   ]
  },
  {
   "cell_type": "code",
   "execution_count": null,
   "id": "10660ce6-40a5-47f4-baa1-d220ba09e48b",
   "metadata": {},
   "outputs": [],
   "source": []
  }
 ],
 "metadata": {
  "kernelspec": {
   "display_name": "Python 3 (ipykernel)",
   "language": "python",
   "name": "python3"
  },
  "language_info": {
   "codemirror_mode": {
    "name": "ipython",
    "version": 3
   },
   "file_extension": ".py",
   "mimetype": "text/x-python",
   "name": "python",
   "nbconvert_exporter": "python",
   "pygments_lexer": "ipython3",
   "version": "3.10.9"
  }
 },
 "nbformat": 4,
 "nbformat_minor": 5
}
