{
 "cells": [
  {
   "cell_type": "code",
   "execution_count": 1,
   "id": "9d350b6c-7d40-461f-a15a-4498f14e380c",
   "metadata": {},
   "outputs": [],
   "source": [
    "# Input: s = \"paper\", t = \"title\"\n",
    "# Output: true"
   ]
  },
  {
   "cell_type": "code",
   "execution_count": 2,
   "id": "f8e75843-30ee-468c-8828-a8f53cc57515",
   "metadata": {},
   "outputs": [],
   "source": []
  },
  {
   "cell_type": "code",
   "execution_count": 25,
   "id": "9e7bec4e-77d9-47d0-b817-efbe698875e9",
   "metadata": {},
   "outputs": [
    {
     "data": {
      "text/plain": [
       "{'h': 'o', 'o': 'n', 'r': 'e', '-': '-', 'f': 't'}"
      ]
     },
     "execution_count": 25,
     "metadata": {},
     "output_type": "execute_result"
    }
   ],
   "source": [
    "s = 'hor-fh-hor'\n",
    "t = 'one-to-one'\n",
    "\n",
    "mapping = {}\n",
    "for i in range(len(s)):\n",
    "    if s[i] not in mapping and t[i] not in mapping.values():\n",
    "        mapping[s[i]] = t[i]\n",
    "    try:\n",
    "        if mapping[s[i]] != t[i]:\n",
    "            print('false')\n",
    "    except:\n",
    "        print('false')\n",
    "    # elif mapping[s[i]] != t[i]:\n",
    "    #     print('false')\n",
    "    \n",
    "mapping"
   ]
  },
  {
   "cell_type": "code",
   "execution_count": 16,
   "id": "6c3099b4-1293-4bd1-abd9-8f989e233a20",
   "metadata": {},
   "outputs": [
    {
     "data": {
      "text/plain": [
       "'b'"
      ]
     },
     "execution_count": 16,
     "metadata": {},
     "output_type": "execute_result"
    }
   ],
   "source": [
    "mapping[s[2]]"
   ]
  },
  {
   "cell_type": "code",
   "execution_count": 26,
   "id": "90b25851-79ad-466c-94d4-7db18c34b6b2",
   "metadata": {},
   "outputs": [],
   "source": [
    "class Solution:\n",
    "    def isIsomorphic(self, s: str, t: str) -> bool:\n",
    "        mapping = {}\n",
    "        for i in range(len(s)):\n",
    "            if s[i] not in mapping and t[i] not in mapping.values():\n",
    "                mapping[s[i]] = t[i]\n",
    "            try:\n",
    "                if mapping[s[i]] != t[i]:\n",
    "                    return False\n",
    "            except:\n",
    "                return False\n",
    "        return True"
   ]
  },
  {
   "cell_type": "code",
   "execution_count": null,
   "id": "92dd4e88-ae79-4a04-98db-c9e1c283e5e9",
   "metadata": {},
   "outputs": [],
   "source": []
  }
 ],
 "metadata": {
  "kernelspec": {
   "display_name": "Python 3 (ipykernel)",
   "language": "python",
   "name": "python3"
  },
  "language_info": {
   "codemirror_mode": {
    "name": "ipython",
    "version": 3
   },
   "file_extension": ".py",
   "mimetype": "text/x-python",
   "name": "python",
   "nbconvert_exporter": "python",
   "pygments_lexer": "ipython3",
   "version": "3.10.8"
  }
 },
 "nbformat": 4,
 "nbformat_minor": 5
}
