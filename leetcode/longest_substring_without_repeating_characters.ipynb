{
 "cells": [
  {
   "cell_type": "code",
   "execution_count": 1,
   "id": "fbd0181d-c440-4512-8431-21aebfcc9631",
   "metadata": {},
   "outputs": [],
   "source": [
    "# Input: s = \"abcabcbb\"\n",
    "# Output: 3\n",
    "# Explanation: The answer is \"abc\", with the length of 3."
   ]
  },
  {
   "cell_type": "code",
   "execution_count": 89,
   "id": "cfb91afa-6e0a-48b9-93f1-0eba61da85d7",
   "metadata": {},
   "outputs": [],
   "source": [
    "class Solution:\n",
    "    def lengthOfLongestSubstring(self, s: str) -> int:\n",
    "        length = len(s)\n",
    "        if length == 1:\n",
    "            return 1\n",
    "        longest = 0\n",
    "        set_ = []\n",
    "        for i in range(length):\n",
    "            val = s[i]\n",
    "            if val not in set_:\n",
    "                set_.append(val)\n",
    "                print(set_)\n",
    "            elif val in set_:\n",
    "                start_of_new_set = set_.index(val) + 1\n",
    "                set_ = set_[start_of_new_set:]\n",
    "                set_.append(val)\n",
    "            else:\n",
    "                print(\"This should not be possible\")\n",
    "                \n",
    "            longest = max(len(set_), longest)\n",
    "        \n",
    "        return longest"
   ]
  },
  {
   "cell_type": "code",
   "execution_count": 90,
   "id": "f199ad95-5d9a-466b-a24e-f0b5ba1092b3",
   "metadata": {},
   "outputs": [],
   "source": [
    "st = ['i', 'l', 'q', 'w', 'e', 'h', 'n', 'a', 's', 'd', 'j', 'k']"
   ]
  },
  {
   "cell_type": "code",
   "execution_count": 91,
   "id": "989b83a2-4490-4370-b6d3-a2a198951ef3",
   "metadata": {},
   "outputs": [
    {
     "data": {
      "text/plain": [
       "['q', 'w', 'e', 'h', 'n', 'a', 's', 'd', 'j', 'k']"
      ]
     },
     "execution_count": 91,
     "metadata": {},
     "output_type": "execute_result"
    }
   ],
   "source": [
    "st[st.index('l') + 1:]"
   ]
  },
  {
   "cell_type": "code",
   "execution_count": 92,
   "id": "ffea71b6-2fe9-4f5e-b85d-fa5d775e9c0e",
   "metadata": {},
   "outputs": [
    {
     "name": "stdout",
     "output_type": "stream",
     "text": [
      "['b']\n",
      "['b', 'r']\n",
      "['b', 'r', 'n']\n",
      "['b', 'r', 'n', 'k']\n"
     ]
    },
    {
     "data": {
      "text/plain": [
       "4"
      ]
     },
     "execution_count": 92,
     "metadata": {},
     "output_type": "execute_result"
    }
   ],
   "source": [
    "# this should be 14\n",
    "Solution().lengthOfLongestSubstring(\"brnk\")"
   ]
  },
  {
   "cell_type": "code",
   "execution_count": 44,
   "id": "4bf9f7e7-c48e-4a90-9e7e-938cc39b9778",
   "metadata": {},
   "outputs": [
    {
     "name": "stdout",
     "output_type": "stream",
     "text": [
      "set: ['w']\n",
      "set: ['w', 's']\n",
      "set: ['w', 's', 'e']\n",
      "set: ['w', 's', 'e', 'd']\n",
      "set: ['w', 's', 'e', 'd', 'g']\n",
      "set: ['w', 's', 'e', 'd', 'g', 'j']\n",
      "set: ['w', 's', 'e', 'd', 'g', 'j', 'h']\n",
      "set: ['w', 's', 'e', 'd', 'g', 'j', 'h', 'n']\n",
      "set: ['w', 's', 'e', 'd', 'g', 'j', 'h', 'n', 'a']\n",
      "set: ['s']\n",
      "set: ['s', 'd']\n",
      "set: ['s', 'd', 'i']\n",
      "set: ['s', 'd', 'i', 'k']\n",
      "set: ['s', 'd', 'i', 'k', 'f']\n",
      "set: ['s', 'd', 'i', 'k', 'f', 'j']\n",
      "set: ['s', 'd', 'i', 'k', 'f', 'j', 'q']\n",
      "set: ['s', 'd', 'i', 'k', 'f', 'j', 'q', 'w']\n",
      "set: ['s', 'd', 'i', 'k', 'f', 'j', 'q', 'w', 'e']\n",
      "set: ['s', 'd', 'i', 'k', 'f', 'j', 'q', 'w', 'e', 'h']\n",
      "set: ['s', 'd', 'i', 'k', 'f', 'j', 'q', 'w', 'e', 'h', 't']\n",
      "set: ['s', 'd', 'i', 'k', 'f', 'j', 'q', 'w', 'e', 'h', 't', 'u']\n",
      "set: ['i']\n",
      "set: ['i', 'l']\n",
      "set: ['i', 'l', 'q']\n",
      "set: ['i', 'l', 'q', 'w']\n",
      "set: ['i', 'l', 'q', 'w', 'e']\n",
      "set: ['i', 'l', 'q', 'w', 'e', 'h']\n",
      "set: ['i', 'l', 'q', 'w', 'e', 'h', 'n']\n",
      "set: ['i', 'l', 'q', 'w', 'e', 'h', 'n', 'a']\n",
      "set: ['i', 'l', 'q', 'w', 'e', 'h', 'n', 'a', 's']\n",
      "set: ['i', 'l', 'q', 'w', 'e', 'h', 'n', 'a', 's', 'd']\n",
      "set: ['i', 'l', 'q', 'w', 'e', 'h', 'n', 'a', 's', 'd', 'j']\n",
      "set: ['i', 'l', 'q', 'w', 'e', 'h', 'n', 'a', 's', 'd', 'j', 'k']\n",
      "set: ['l']\n",
      "set: ['l', 'f']\n",
      "set: ['l', 'f', 'h']\n",
      "set: ['l', 'f', 'h', 'b']\n",
      "set: ['l', 'f', 'h', 'b', 'a']\n",
      "set: ['l', 'f', 'h', 'b', 'a', 'e']\n",
      "set: ['l', 'f', 'h', 'b', 'a', 'e', 'd']\n",
      "set: ['l', 'f', 'h', 'b', 'a', 'e', 'd', 't']\n",
      "set: ['l', 'f', 'h', 'b', 'a', 'e', 'd', 't', 'j']\n",
      "set: ['l', 'f', 'h', 'b', 'a', 'e', 'd', 't', 'j', 'k']\n",
      "set: ['l']\n",
      "set: ['l', 'e']\n",
      "set: ['l', 'e', 'a']\n",
      "set: ['l', 'e', 'a', 'h']\n",
      "set: ['l', 'e', 'a', 'h', 'b']\n",
      "set: ['l', 'e', 'a', 'h', 'b', 'r']\n",
      "set: ['l', 'e', 'a', 'h', 'b', 'r', 'f']\n",
      "set: ['a']\n",
      "set: ['a', 's']\n",
      "set: ['a', 's', 'k']\n",
      "set: ['a', 's', 'k', 'f']\n",
      "set: ['a', 's', 'k', 'f', 'h']\n",
      "set: ['a', 's', 'k', 'f', 'h', 'b']\n",
      "set: ['a']\n",
      "set: ['a', 'w']\n",
      "set: ['a', 'w', 's']\n",
      "set: ['a', 'w', 's', 'e']\n",
      "set: ['a', 'w', 's', 'e', 'u']\n",
      "set: ['a', 'w', 's', 'e', 'u', 'j']\n",
      "set: ['a']\n",
      "set: ['a', 'h']\n",
      "set: ['a', 'h', 'w']\n",
      "set: ['a', 'h', 'w', 'o']\n",
      "set: ['a']\n",
      "set: ['a', 's']\n",
      "set: ['a', 's', 'l']\n",
      "set: ['a', 's', 'l', 'f']\n",
      "set: ['a', 's', 'l', 'f', 'g']\n",
      "set: ['a', 's', 'l', 'f', 'g', 'h']\n",
      "set: ['a', 's', 'l', 'f', 'g', 'h', 'j']\n",
      "set: ['a']\n",
      "break: 12 at 73 of 84\n"
     ]
    },
    {
     "data": {
      "text/plain": [
       "12"
      ]
     },
     "execution_count": 44,
     "metadata": {},
     "output_type": "execute_result"
    }
   ],
   "source": [
    "longest = 0\n",
    "s = \"wsedgjhnasdikfjqwehtuilqwehnasdjklfhbaedtjkleahbrfaskfhbawseujahwoaslfghjasolfgjikas\"\n",
    "length = len(s)\n",
    "set_ = []\n",
    "for i in range(length):\n",
    "    val = s[i]\n",
    "    if val not in set_:\n",
    "        set_.append(val)\n",
    "    elif val in set_:\n",
    "        longest = max(len(set_), longest)\n",
    "        set_ = []\n",
    "        set_.append(val)\n",
    "    else:\n",
    "        print(\"This should not be possible\")\n",
    "        \n",
    "    print(f\"set: {set_}\")\n",
    "    \n",
    "    if longest > length - i:\n",
    "        print(f\"break: {longest} at {i} of {length}\")\n",
    "        break\n",
    "        \n",
    "longest"
   ]
  },
  {
   "cell_type": "code",
   "execution_count": 60,
   "id": "aaf4bd43-b603-4d61-96d3-19e21405d121",
   "metadata": {},
   "outputs": [
    {
     "ename": "SyntaxError",
     "evalue": "'return' outside function (1007738635.py, line 5)",
     "output_type": "error",
     "traceback": [
      "\u001b[1;36m  Cell \u001b[1;32mIn [60], line 5\u001b[1;36m\u001b[0m\n\u001b[1;33m    return 1\u001b[0m\n\u001b[1;37m    ^\u001b[0m\n\u001b[1;31mSyntaxError\u001b[0m\u001b[1;31m:\u001b[0m 'return' outside function\n"
     ]
    }
   ],
   "source": [
    "longest = 0\n",
    "s = \"au\"\n",
    "length = len(s)\n",
    "set_ = []\n",
    "for i in range(length):\n",
    "    val = s[i]\n",
    "    if val not in set_:\n",
    "        set_.append(val)\n",
    "    elif val in set_:\n",
    "        longest = max(len(set_), longest)\n",
    "        set_ = []\n",
    "        set_.append(val)\n",
    "    else:\n",
    "        print(\"This should not be possible\")\n",
    "        \n",
    "    print(f\"set: {set_}\")\n",
    "    \n",
    "    if longest > length - i:\n",
    "        print(f\"break: {longest} at {i} of {length}\")\n",
    "        break\n",
    "        \n",
    "longest"
   ]
  },
  {
   "cell_type": "code",
   "execution_count": 59,
   "id": "0e219ce1-e0c3-4503-b8a6-4bb363a42cb3",
   "metadata": {},
   "outputs": [],
   "source": [
    "s = \"\"\n",
    "for i in range(len(s)):\n",
    "    print(i)"
   ]
  },
  {
   "cell_type": "code",
   "execution_count": null,
   "id": "c594aaf1-6ccf-4a4c-8639-0f7940ab4f51",
   "metadata": {},
   "outputs": [],
   "source": []
  }
 ],
 "metadata": {
  "kernelspec": {
   "display_name": "Python 3 (ipykernel)",
   "language": "python",
   "name": "python3"
  },
  "language_info": {
   "codemirror_mode": {
    "name": "ipython",
    "version": 3
   },
   "file_extension": ".py",
   "mimetype": "text/x-python",
   "name": "python",
   "nbconvert_exporter": "python",
   "pygments_lexer": "ipython3",
   "version": "3.10.10"
  }
 },
 "nbformat": 4,
 "nbformat_minor": 5
}
