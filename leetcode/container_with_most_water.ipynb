{
 "cells": [
  {
   "cell_type": "code",
   "execution_count": 71,
   "id": "648b5c42-074f-414e-b683-9588a79ce5b2",
   "metadata": {},
   "outputs": [],
   "source": [
    "heights = [1,8,6,2,5,4,8,3,7]"
   ]
  },
  {
   "cell_type": "code",
   "execution_count": 74,
   "id": "d61273cd-c474-484e-9c41-557138c19b21",
   "metadata": {},
   "outputs": [],
   "source": [
    "from typing import List\n",
    "\n",
    "class Solution:\n",
    "    def maxArea(self, height: List[int]) -> int:\n",
    "        left = height[0]\n",
    "        right = len(height) - 1\n",
    "        max_area = 0\n",
    "        while left < right:\n",
    "            area = min(height[left], height[right]) * (right - left)\n",
    "            if area > max_area:\n",
    "                max_area = area\n",
    "                \n",
    "            if height[left] < height[right]:\n",
    "                left += 1\n",
    "            else:\n",
    "                right -= 1\n",
    "            \n",
    "        return max_area"
   ]
  },
  {
   "cell_type": "code",
   "execution_count": 51,
   "id": "fa272d9f-6727-4787-89b0-90396649cf02",
   "metadata": {},
   "outputs": [
    {
     "name": "stdout",
     "output_type": "stream",
     "text": [
      "7\n",
      "3\n",
      "8\n",
      "4\n",
      "15\n",
      "2\n",
      "6\n",
      "8\n",
      "9\n"
     ]
    }
   ],
   "source": [
    "for i in reversed(range(len(heights))):\n",
    "    print(heights[i])"
   ]
  },
  {
   "cell_type": "code",
   "execution_count": null,
   "id": "db8f5e5f-9aa7-45dc-a676-f407e46705c3",
   "metadata": {},
   "outputs": [],
   "source": []
  },
  {
   "cell_type": "code",
   "execution_count": null,
   "id": "b3398e09-8696-41b6-aa67-b4dd1bf4a6de",
   "metadata": {},
   "outputs": [],
   "source": []
  }
 ],
 "metadata": {
  "kernelspec": {
   "display_name": "Python 3 (ipykernel)",
   "language": "python",
   "name": "python3"
  },
  "language_info": {
   "codemirror_mode": {
    "name": "ipython",
    "version": 3
   },
   "file_extension": ".py",
   "mimetype": "text/x-python",
   "name": "python",
   "nbconvert_exporter": "python",
   "pygments_lexer": "ipython3",
   "version": "3.10.9"
  }
 },
 "nbformat": 4,
 "nbformat_minor": 5
}
