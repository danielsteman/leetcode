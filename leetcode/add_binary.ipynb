{
 "cells": [
  {
   "cell_type": "code",
   "execution_count": 1,
   "id": "ed01f9c9-5097-43ed-bee7-8f3013aec0b4",
   "metadata": {},
   "outputs": [],
   "source": [
    "# Input: a = \"11\", b = \"1\"\n",
    "# Output: \"100\""
   ]
  },
  {
   "cell_type": "code",
   "execution_count": 19,
   "id": "e96636a0-8ae1-4e3e-8778-5d7618ee94b3",
   "metadata": {},
   "outputs": [
    {
     "data": {
      "text/plain": [
       "'1100'"
      ]
     },
     "execution_count": 19,
     "metadata": {},
     "output_type": "execute_result"
    }
   ],
   "source": [
    "\"{0:b}\".format(12)"
   ]
  },
  {
   "cell_type": "code",
   "execution_count": 6,
   "id": "6b751d2a-2e05-4be7-9b69-3e040ea50a46",
   "metadata": {},
   "outputs": [],
   "source": [
    "a = 11\n",
    "b = 1"
   ]
  },
  {
   "cell_type": "code",
   "execution_count": 11,
   "id": "e9f023cb-0e57-4d75-bab6-fb13c0d49749",
   "metadata": {},
   "outputs": [
    {
     "data": {
      "text/plain": [
       "3"
      ]
     },
     "execution_count": 11,
     "metadata": {},
     "output_type": "execute_result"
    }
   ],
   "source": [
    "int(str(a), 2)"
   ]
  },
  {
   "cell_type": "code",
   "execution_count": 12,
   "id": "2e525eaf-56af-4752-bf5f-b459d66a392c",
   "metadata": {},
   "outputs": [
    {
     "data": {
      "text/plain": [
       "1"
      ]
     },
     "execution_count": 12,
     "metadata": {},
     "output_type": "execute_result"
    }
   ],
   "source": [
    "int(str(b), 2)"
   ]
  },
  {
   "cell_type": "code",
   "execution_count": 13,
   "id": "382eae21-0d83-4c2d-835e-9265660f6d91",
   "metadata": {},
   "outputs": [
    {
     "data": {
      "text/plain": [
       "'100'"
      ]
     },
     "execution_count": 13,
     "metadata": {},
     "output_type": "execute_result"
    }
   ],
   "source": [
    "\"{0:b}\".format(4)"
   ]
  },
  {
   "cell_type": "code",
   "execution_count": 15,
   "id": "162be142-9534-46c9-b951-cf2662bfd9cc",
   "metadata": {},
   "outputs": [
    {
     "data": {
      "text/plain": [
       "'100'"
      ]
     },
     "execution_count": 15,
     "metadata": {},
     "output_type": "execute_result"
    }
   ],
   "source": [
    "f\"{4:b}\""
   ]
  },
  {
   "cell_type": "code",
   "execution_count": 16,
   "id": "8e21d556-4672-490d-a80a-1a3a7c3745cc",
   "metadata": {},
   "outputs": [],
   "source": [
    "class Solution:\n",
    "    def addBinary(self, a: str, b: str) -> str:\n",
    "        sum_ = int(str(a), 2) + int(str(b), 2)\n",
    "        return f\"{sum_:b}\""
   ]
  },
  {
   "cell_type": "code",
   "execution_count": 18,
   "id": "8b3ab70e-b8e3-4014-a42a-a742a2cdbea2",
   "metadata": {},
   "outputs": [
    {
     "data": {
      "text/plain": [
       "'100'"
      ]
     },
     "execution_count": 18,
     "metadata": {},
     "output_type": "execute_result"
    }
   ],
   "source": [
    "Solution().addBinary(\"11\", \"1\")"
   ]
  },
  {
   "cell_type": "code",
   "execution_count": null,
   "id": "26393362-3f9c-4f9b-ada9-3ec34852b483",
   "metadata": {},
   "outputs": [],
   "source": []
  }
 ],
 "metadata": {
  "kernelspec": {
   "display_name": "Python 3 (ipykernel)",
   "language": "python",
   "name": "python3"
  },
  "language_info": {
   "codemirror_mode": {
    "name": "ipython",
    "version": 3
   },
   "file_extension": ".py",
   "mimetype": "text/x-python",
   "name": "python",
   "nbconvert_exporter": "python",
   "pygments_lexer": "ipython3",
   "version": "3.10.9"
  }
 },
 "nbformat": 4,
 "nbformat_minor": 5
}
