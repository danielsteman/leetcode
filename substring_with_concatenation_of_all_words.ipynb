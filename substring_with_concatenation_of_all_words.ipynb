{
 "cells": [
  {
   "cell_type": "code",
   "execution_count": 27,
   "id": "9b616b67-afe5-475d-a6a9-3c3077dd39d2",
   "metadata": {},
   "outputs": [],
   "source": [
    "# Input: s = \"barfoothefoobarman\", words = [\"foo\",\"bar\"]\n",
    "# Output: [0,9]"
   ]
  },
  {
   "cell_type": "code",
   "execution_count": 28,
   "id": "4d72baa6-9ef1-4b2c-881a-71f91ccebe0f",
   "metadata": {},
   "outputs": [],
   "source": [
    "from itertools import permutations, starmap"
   ]
  },
  {
   "cell_type": "code",
   "execution_count": 76,
   "id": "5f5c25dc-f521-4f45-917d-99991f3b18e7",
   "metadata": {},
   "outputs": [
    {
     "name": "stdout",
     "output_type": "stream",
     "text": [
      "9\n",
      "0\n"
     ]
    }
   ],
   "source": [
    "words = [\"foo\",\"bar\"]\n",
    "s = \"barfoothefoobarman\"\n",
    "\n",
    "def concat(*args):\n",
    "    concatted = \"\"\n",
    "    for i in args:\n",
    "        concatted += i\n",
    "    return concatted\n",
    "\n",
    "for i in starmap(concat, permutations(words)):\n",
    "    print(s.find(i))"
   ]
  },
  {
   "cell_type": "code",
   "execution_count": 75,
   "id": "40c54ec6-63c0-4d41-a888-9a926c748438",
   "metadata": {},
   "outputs": [
    {
     "name": "stdout",
     "output_type": "stream",
     "text": [
      "wordgoodbestword\n",
      "wordgoodwordbest\n",
      "wordbestgoodword\n",
      "wordbestwordgood\n",
      "wordwordgoodbest\n",
      "wordwordbestgood\n",
      "goodwordbestword\n",
      "goodwordwordbest\n",
      "goodbestwordword\n",
      "goodbestwordword\n",
      "goodwordwordbest\n",
      "goodwordbestword\n",
      "bestwordgoodword\n",
      "bestwordwordgood\n",
      "bestgoodwordword\n",
      "bestgoodwordword\n",
      "bestwordwordgood\n",
      "bestwordgoodword\n",
      "wordwordgoodbest\n",
      "wordwordbestgood\n",
      "wordgoodwordbest\n",
      "wordgoodbestword\n",
      "wordbestwordgood\n",
      "wordbestgoodword\n"
     ]
    }
   ],
   "source": [
    "s = \"wordgoodgoodgoodbestword\"\n",
    "words = [\"word\",\"good\",\"best\",\"word\"]\n",
    "\n",
    "def concat(*args):\n",
    "    concatted = \"\"\n",
    "    for i in args:\n",
    "        concatted += i\n",
    "    return concatted\n",
    "\n",
    "for i in starmap(concat, permutations(words)):\n",
    "    # print(s.find(i))\n",
    "    print(i)"
   ]
  },
  {
   "cell_type": "code",
   "execution_count": 67,
   "id": "8c72baa2-3ec5-4a15-9aa4-087975707124",
   "metadata": {},
   "outputs": [],
   "source": [
    "def concat(*args):\n",
    "    concatted = \"\"\n",
    "    for i in args:\n",
    "        print(i)\n",
    "        # concatted += i"
   ]
  },
  {
   "cell_type": "code",
   "execution_count": 57,
   "id": "1f149c98-10ee-460e-b83f-48144fc858a7",
   "metadata": {},
   "outputs": [
    {
     "name": "stdout",
     "output_type": "stream",
     "text": [
      "('asfasf', 'asfasf')\n"
     ]
    }
   ],
   "source": [
    "concat((\"asfasf\",\"asfasf\"))"
   ]
  },
  {
   "cell_type": "code",
   "execution_count": 58,
   "id": "e2edff94-15fe-44ef-9b63-35f64b33c8f0",
   "metadata": {},
   "outputs": [
    {
     "data": {
      "text/plain": [
       "<itertools.permutations at 0x25f52b20590>"
      ]
     },
     "execution_count": 58,
     "metadata": {},
     "output_type": "execute_result"
    }
   ],
   "source": [
    "permutations(words)"
   ]
  },
  {
   "cell_type": "code",
   "execution_count": null,
   "id": "9f25af56-7c95-4063-a752-9601ee6fe420",
   "metadata": {},
   "outputs": [],
   "source": []
  }
 ],
 "metadata": {
  "kernelspec": {
   "display_name": "Python 3 (ipykernel)",
   "language": "python",
   "name": "python3"
  },
  "language_info": {
   "codemirror_mode": {
    "name": "ipython",
    "version": 3
   },
   "file_extension": ".py",
   "mimetype": "text/x-python",
   "name": "python",
   "nbconvert_exporter": "python",
   "pygments_lexer": "ipython3",
   "version": "3.10.9"
  }
 },
 "nbformat": 4,
 "nbformat_minor": 5
}
