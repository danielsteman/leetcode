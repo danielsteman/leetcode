{
 "cells": [
  {
   "cell_type": "code",
   "execution_count": 27,
   "id": "9b616b67-afe5-475d-a6a9-3c3077dd39d2",
   "metadata": {},
   "outputs": [],
   "source": [
    "# Input: s = \"barfoothefoobarman\", words = [\"foo\",\"bar\"]\n",
    "# Output: [0,9]"
   ]
  },
  {
   "cell_type": "code",
   "execution_count": 28,
   "id": "4d72baa6-9ef1-4b2c-881a-71f91ccebe0f",
   "metadata": {},
   "outputs": [],
   "source": [
    "from itertools import permutations, starmap"
   ]
  },
  {
   "cell_type": "code",
   "execution_count": 29,
   "id": "5f5c25dc-f521-4f45-917d-99991f3b18e7",
   "metadata": {},
   "outputs": [],
   "source": [
    "def concat(str1, str2):\n",
    "    return f\"{str1}{str2}\""
   ]
  },
  {
   "cell_type": "code",
   "execution_count": 30,
   "id": "573e30ac-8317-442d-96eb-4dd06e57c4b7",
   "metadata": {},
   "outputs": [
    {
     "data": {
      "text/plain": [
       "['foobar', 'barfoo']"
      ]
     },
     "execution_count": 30,
     "metadata": {},
     "output_type": "execute_result"
    }
   ],
   "source": [
    "list(starmap(concat, permutations(words)))"
   ]
  },
  {
   "cell_type": "code",
   "execution_count": 31,
   "id": "7d0aea57-69f7-427a-bfb0-9f03dffcd022",
   "metadata": {},
   "outputs": [],
   "source": [
    "s = \"barfoothefoobarman\""
   ]
  },
  {
   "cell_type": "code",
   "execution_count": 32,
   "id": "d42972a7-134d-4013-a09e-68b84fbd84da",
   "metadata": {},
   "outputs": [
    {
     "name": "stdout",
     "output_type": "stream",
     "text": [
      "9\n",
      "0\n"
     ]
    }
   ],
   "source": [
    "for i in starmap(concat, permutations(words)):\n",
    "    print(s.find(i))"
   ]
  },
  {
   "cell_type": "code",
   "execution_count": 50,
   "id": "40c54ec6-63c0-4d41-a888-9a926c748438",
   "metadata": {},
   "outputs": [
    {
     "ename": "TypeError",
     "evalue": "concat() takes 2 positional arguments but 4 were given",
     "output_type": "error",
     "traceback": [
      "\u001b[1;31m---------------------------------------------------------------------------\u001b[0m",
      "\u001b[1;31mTypeError\u001b[0m                                 Traceback (most recent call last)",
      "Cell \u001b[1;32mIn [50], line 7\u001b[0m\n\u001b[0;32m      4\u001b[0m \u001b[38;5;28;01mdef\u001b[39;00m \u001b[38;5;21mconcat\u001b[39m(str1, str2):\n\u001b[0;32m      5\u001b[0m     \u001b[38;5;28;01mreturn\u001b[39;00m \u001b[38;5;124mf\u001b[39m\u001b[38;5;124m\"\u001b[39m\u001b[38;5;132;01m{\u001b[39;00mstr1\u001b[38;5;132;01m}\u001b[39;00m\u001b[38;5;132;01m{\u001b[39;00mstr2\u001b[38;5;132;01m}\u001b[39;00m\u001b[38;5;124m\"\u001b[39m\n\u001b[1;32m----> 7\u001b[0m \u001b[38;5;28;01mfor\u001b[39;00m i \u001b[38;5;129;01min\u001b[39;00m starmap(concat, permutations(words)):\n\u001b[0;32m      8\u001b[0m     \u001b[38;5;28mprint\u001b[39m(s\u001b[38;5;241m.\u001b[39mfind(i))\n",
      "\u001b[1;31mTypeError\u001b[0m: concat() takes 2 positional arguments but 4 were given"
     ]
    }
   ],
   "source": [
    "s = \"wordgoodgoodgoodbestword\"\n",
    "words = [\"word\",\"good\",\"best\",\"word\"]\n",
    "\n",
    "def concat(str1, str2):\n",
    "    return f\"{str1}{str2}\"\n",
    "\n",
    "for i in starmap(concat, permutations(words)):\n",
    "    print(s.find(i))"
   ]
  },
  {
   "cell_type": "code",
   "execution_count": 47,
   "id": "8c72baa2-3ec5-4a15-9aa4-087975707124",
   "metadata": {},
   "outputs": [],
   "source": [
    "def concat(args):\n",
    "    concatted = \"\"\n",
    "    print(len(args))\n",
    "        # concatted += i"
   ]
  },
  {
   "cell_type": "code",
   "execution_count": 48,
   "id": "1f149c98-10ee-460e-b83f-48144fc858a7",
   "metadata": {},
   "outputs": [
    {
     "name": "stdout",
     "output_type": "stream",
     "text": [
      "4\n"
     ]
    }
   ],
   "source": [
    "concat(words)"
   ]
  },
  {
   "cell_type": "code",
   "execution_count": 49,
   "id": "e2edff94-15fe-44ef-9b63-35f64b33c8f0",
   "metadata": {},
   "outputs": [
    {
     "data": {
      "text/plain": [
       "<itertools.permutations at 0x25f52a5fa10>"
      ]
     },
     "execution_count": 49,
     "metadata": {},
     "output_type": "execute_result"
    }
   ],
   "source": [
    "permutations(words)"
   ]
  },
  {
   "cell_type": "code",
   "execution_count": null,
   "id": "9f25af56-7c95-4063-a752-9601ee6fe420",
   "metadata": {},
   "outputs": [],
   "source": []
  }
 ],
 "metadata": {
  "kernelspec": {
   "display_name": "Python 3 (ipykernel)",
   "language": "python",
   "name": "python3"
  },
  "language_info": {
   "codemirror_mode": {
    "name": "ipython",
    "version": 3
   },
   "file_extension": ".py",
   "mimetype": "text/x-python",
   "name": "python",
   "nbconvert_exporter": "python",
   "pygments_lexer": "ipython3",
   "version": "3.10.9"
  }
 },
 "nbformat": 4,
 "nbformat_minor": 5
}
