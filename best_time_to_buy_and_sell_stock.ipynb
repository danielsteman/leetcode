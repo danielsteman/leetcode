{
 "cells": [
  {
   "cell_type": "code",
   "execution_count": 1,
   "id": "30446368-49e9-431f-b3fc-58d3ac92d45f",
   "metadata": {},
   "outputs": [],
   "source": [
    "#https://leetcode.com/problems/best-time-to-buy-and-sell-stock/?envType=study-plan&id=level-1"
   ]
  },
  {
   "cell_type": "code",
   "execution_count": 2,
   "id": "760fe4a8-0b01-48ac-b53f-8252cf65387c",
   "metadata": {},
   "outputs": [],
   "source": [
    "# Input: prices = [7,1,5,3,6,4]\n",
    "# Output: 5"
   ]
  },
  {
   "cell_type": "code",
   "execution_count": 5,
   "id": "44497681-ed05-4c30-b5aa-c6e28df11afe",
   "metadata": {},
   "outputs": [
    {
     "data": {
      "text/plain": [
       "6"
      ]
     },
     "execution_count": 5,
     "metadata": {},
     "output_type": "execute_result"
    }
   ],
   "source": [
    "prices = [7,1,5,3,6,4,1,7]\n",
    "\n",
    "def max_profit(prices):\n",
    "    lowest = prices[0]\n",
    "    max_profit = 0\n",
    "\n",
    "    for i in prices:\n",
    "        if i < lowest:\n",
    "            lowest = i\n",
    "        p = i - lowest\n",
    "        if p > max_profit:\n",
    "            max_profit = p\n",
    "    return(max_profit)\n",
    "\n",
    "max_profit(prices)"
   ]
  },
  {
   "cell_type": "code",
   "execution_count": 7,
   "id": "e19d0b87-fa6b-4d87-bfb4-27dcd338f64b",
   "metadata": {},
   "outputs": [
    {
     "data": {
      "text/plain": [
       "0"
      ]
     },
     "execution_count": 7,
     "metadata": {},
     "output_type": "execute_result"
    }
   ],
   "source": [
    "max_profit([7,6,4,3,1])"
   ]
  },
  {
   "cell_type": "code",
   "execution_count": null,
   "id": "03d8a687-85ed-4c42-84ff-fcfabccda999",
   "metadata": {},
   "outputs": [],
   "source": []
  }
 ],
 "metadata": {
  "kernelspec": {
   "display_name": "Python 3 (ipykernel)",
   "language": "python",
   "name": "python3"
  },
  "language_info": {
   "codemirror_mode": {
    "name": "ipython",
    "version": 3
   },
   "file_extension": ".py",
   "mimetype": "text/x-python",
   "name": "python",
   "nbconvert_exporter": "python",
   "pygments_lexer": "ipython3",
   "version": "3.10.9"
  }
 },
 "nbformat": 4,
 "nbformat_minor": 5
}
