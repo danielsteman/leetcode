{
 "cells": [
  {
   "cell_type": "code",
   "execution_count": 1,
   "id": "540e0f48-b17a-4577-8d9a-2f78051d1644",
   "metadata": {},
   "outputs": [],
   "source": [
    "# https://leetcode.com/study-plan/leetcode-75/?progress=xann1mac\n",
    "x = [1]"
   ]
  },
  {
   "cell_type": "code",
   "execution_count": 2,
   "id": "92d522e4-f97d-4efc-b03b-eacd3f6cd771",
   "metadata": {},
   "outputs": [
    {
     "data": {
      "text/plain": [
       "1"
      ]
     },
     "execution_count": 2,
     "metadata": {},
     "output_type": "execute_result"
    }
   ],
   "source": [
    "x[int(len(x)/2)]"
   ]
  },
  {
   "cell_type": "code",
   "execution_count": 3,
   "id": "3e4db2ac-337f-403b-9078-4e0dc63bc4a2",
   "metadata": {},
   "outputs": [],
   "source": [
    "x = [1,2,3,4,5]\n",
    "y = [2,4,6]"
   ]
  },
  {
   "cell_type": "code",
   "execution_count": 4,
   "id": "03113504-32fe-4a87-b8e2-49cba2c5ac68",
   "metadata": {},
   "outputs": [
    {
     "ename": "IndexError",
     "evalue": "list index out of range",
     "output_type": "error",
     "traceback": [
      "\u001b[1;31m---------------------------------------------------------------------------\u001b[0m",
      "\u001b[1;31mIndexError\u001b[0m                                Traceback (most recent call last)",
      "Cell \u001b[1;32mIn [4], line 4\u001b[0m\n\u001b[0;32m      1\u001b[0m z \u001b[38;5;241m=\u001b[39m []  \n\u001b[0;32m      3\u001b[0m \u001b[38;5;28;01mfor\u001b[39;00m i \u001b[38;5;129;01min\u001b[39;00m \u001b[38;5;28mrange\u001b[39m(\u001b[38;5;28mmax\u001b[39m(\u001b[38;5;28mlen\u001b[39m(x),\u001b[38;5;28mlen\u001b[39m(y))):\n\u001b[1;32m----> 4\u001b[0m     z\u001b[38;5;241m.\u001b[39mappend(\u001b[38;5;28mmin\u001b[39m(x[i],\u001b[43my\u001b[49m\u001b[43m[\u001b[49m\u001b[43mi\u001b[49m\u001b[43m]\u001b[49m))\n\u001b[0;32m      5\u001b[0m z\n",
      "\u001b[1;31mIndexError\u001b[0m: list index out of range"
     ]
    }
   ],
   "source": [
    "z = []  \n",
    "\n",
    "for i in range(max(len(x),len(y))):\n",
    "    z.append(min(x[i],y[i]))\n",
    "z"
   ]
  },
  {
   "cell_type": "code",
   "execution_count": null,
   "id": "6ce5572a-acc3-423a-a342-dde81c27185a",
   "metadata": {},
   "outputs": [],
   "source": []
  }
 ],
 "metadata": {
  "kernelspec": {
   "display_name": "Python 3 (ipykernel)",
   "language": "python",
   "name": "python3"
  },
  "language_info": {
   "codemirror_mode": {
    "name": "ipython",
    "version": 3
   },
   "file_extension": ".py",
   "mimetype": "text/x-python",
   "name": "python",
   "nbconvert_exporter": "python",
   "pygments_lexer": "ipython3",
   "version": "3.10.9"
  }
 },
 "nbformat": 4,
 "nbformat_minor": 5
}
