{
 "cells": [
  {
   "cell_type": "code",
   "execution_count": 24,
   "id": "fbf56260-5ce9-41df-9f03-cbc811b63f9c",
   "metadata": {},
   "outputs": [],
   "source": [
    "from typing import List\n",
    "\n",
    "class Solution:\n",
    "    def majorityElement(self, nums: List[int]) -> int:\n",
    "        count = {}\n",
    "        n = len(nums)\n",
    "        for i in nums:\n",
    "            try:\n",
    "                count[i] += 1\n",
    "            except KeyError:\n",
    "                count[i] = 1\n",
    "            if count[i] > n / 2:\n",
    "                return i"
   ]
  },
  {
   "cell_type": "code",
   "execution_count": 25,
   "id": "0b0e8064-29f5-40fc-a90f-814404d792dc",
   "metadata": {},
   "outputs": [
    {
     "data": {
      "text/plain": [
       "1"
      ]
     },
     "execution_count": 25,
     "metadata": {},
     "output_type": "execute_result"
    }
   ],
   "source": [
    "Solution().majorityElement([1,1,1,2])"
   ]
  },
  {
   "cell_type": "code",
   "execution_count": 26,
   "id": "f87758de-c0c7-4662-8ed0-5dd9210c90dd",
   "metadata": {},
   "outputs": [],
   "source": [
    "Solution().majorityElement([2,2,2,1,1,1])"
   ]
  },
  {
   "cell_type": "code",
   "execution_count": 27,
   "id": "e00260bc-57ce-44d1-bad8-1cfe35335a75",
   "metadata": {},
   "outputs": [
    {
     "data": {
      "text/plain": [
       "{}"
      ]
     },
     "execution_count": 27,
     "metadata": {},
     "output_type": "execute_result"
    }
   ],
   "source": [
    "x"
   ]
  },
  {
   "cell_type": "code",
   "execution_count": null,
   "id": "c2d5e623-43bc-4188-b49a-430c546fbf54",
   "metadata": {},
   "outputs": [],
   "source": []
  }
 ],
 "metadata": {
  "kernelspec": {
   "display_name": "Python 3 (ipykernel)",
   "language": "python",
   "name": "python3"
  },
  "language_info": {
   "codemirror_mode": {
    "name": "ipython",
    "version": 3
   },
   "file_extension": ".py",
   "mimetype": "text/x-python",
   "name": "python",
   "nbconvert_exporter": "python",
   "pygments_lexer": "ipython3",
   "version": "3.10.9"
  }
 },
 "nbformat": 4,
 "nbformat_minor": 5
}
