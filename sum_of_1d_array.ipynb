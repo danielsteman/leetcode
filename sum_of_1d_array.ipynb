{
 "cells": [
  {
   "cell_type": "code",
   "execution_count": 1,
   "id": "9ca9a4cd-c86a-4479-8624-c9745f929625",
   "metadata": {},
   "outputs": [],
   "source": [
    "# Input: nums = [1,2,3,4]\n",
    "# Output: [1,3,6,10]\n",
    "# Explanation: Running sum is obtained as follows: [1, 1+2, 1+2+3, 1+2+3+4]."
   ]
  },
  {
   "cell_type": "code",
   "execution_count": 12,
   "id": "97c931b2-0666-4ab1-86ce-b6fdf99e2181",
   "metadata": {},
   "outputs": [
    {
     "data": {
      "text/plain": [
       "[1, 3, 6, 10]"
      ]
     },
     "execution_count": 12,
     "metadata": {},
     "output_type": "execute_result"
    }
   ],
   "source": [
    "nums = [1,2,3,4]\n",
    "\n",
    "[sum(nums[:i+1]) for i in range(len(nums))]"
   ]
  },
  {
   "cell_type": "code",
   "execution_count": 15,
   "id": "a83fd95b-96e4-41d9-bfab-36a1dde7f954",
   "metadata": {},
   "outputs": [
    {
     "name": "stdout",
     "output_type": "stream",
     "text": [
      "1\n",
      "3\n",
      "6\n",
      "10\n"
     ]
    }
   ],
   "source": [
    "num = 0\n",
    "for i in nums:\n",
    "    num += i\n",
    "    print(num)"
   ]
  },
  {
   "cell_type": "code",
   "execution_count": null,
   "id": "d560f6b8-873f-4615-a4e4-c34b2506e1b3",
   "metadata": {},
   "outputs": [],
   "source": []
  }
 ],
 "metadata": {
  "kernelspec": {
   "display_name": "Python 3 (ipykernel)",
   "language": "python",
   "name": "python3"
  },
  "language_info": {
   "codemirror_mode": {
    "name": "ipython",
    "version": 3
   },
   "file_extension": ".py",
   "mimetype": "text/x-python",
   "name": "python",
   "nbconvert_exporter": "python",
   "pygments_lexer": "ipython3",
   "version": "3.10.8"
  }
 },
 "nbformat": 4,
 "nbformat_minor": 5
}
