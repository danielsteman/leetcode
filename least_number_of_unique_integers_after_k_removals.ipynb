{
 "cells": [
  {
   "cell_type": "code",
   "execution_count": 3,
   "id": "1a76cbec-14cf-4536-8311-109e4e00c6af",
   "metadata": {},
   "outputs": [],
   "source": [
    "# Input: arr = [5,5,4], k = 1\n",
    "# Output: 1\n",
    "# Explanation: Remove the single 4, only 5 is left.\n",
    "\n",
    "# Input: arr = [4,3,1,1,3,3,2], k = 3\n",
    "# Output: 2\n",
    "# Explanation: Remove 4, 2 and either one of the two 1s or three 3s. 1 and 3 will be left."
   ]
  },
  {
   "cell_type": "code",
   "execution_count": 5,
   "id": "98024fe7-16cf-4b9d-87b4-1ca5bb4ac102",
   "metadata": {},
   "outputs": [],
   "source": [
    "arr = [4,3,1,1,3,3,2]\n",
    "k = 3"
   ]
  },
  {
   "cell_type": "code",
   "execution_count": 15,
   "id": "b0c73925-3e48-4c26-97e0-a7b39a0fc1a6",
   "metadata": {},
   "outputs": [
    {
     "data": {
      "text/plain": [
       "{1: 2, 2: 1, 3: 3, 4: 1}"
      ]
     },
     "execution_count": 15,
     "metadata": {},
     "output_type": "execute_result"
    }
   ],
   "source": [
    "table = {}\n",
    "for i in set(arr):\n",
    "    table[i] = arr.count(i)\n",
    "    \n",
    "table"
   ]
  },
  {
   "cell_type": "code",
   "execution_count": 33,
   "id": "4c2a3e33-f4ad-4869-968e-821100635140",
   "metadata": {},
   "outputs": [
    {
     "data": {
      "text/plain": [
       "range(0, 4)"
      ]
     },
     "execution_count": 33,
     "metadata": {},
     "output_type": "execute_result"
    }
   ],
   "source": [
    "sorted_table = dict(sorted(table.items(), key=lambda item: item[1]))\n",
    "range(len(k))"
   ]
  },
  {
   "cell_type": "code",
   "execution_count": null,
   "id": "fbe15dcb-6762-4f75-852a-e0224d60718d",
   "metadata": {},
   "outputs": [],
   "source": []
  },
  {
   "cell_type": "code",
   "execution_count": null,
   "id": "2e38e1f0-7740-4e0b-a087-bdfaa8da4b98",
   "metadata": {},
   "outputs": [],
   "source": []
  },
  {
   "cell_type": "code",
   "execution_count": null,
   "id": "3403d8f2-c66f-44f3-aa44-978e101d4fe2",
   "metadata": {},
   "outputs": [],
   "source": []
  },
  {
   "cell_type": "code",
   "execution_count": null,
   "id": "d412b6df-7983-4965-aa80-69682edcb5fc",
   "metadata": {},
   "outputs": [],
   "source": []
  }
 ],
 "metadata": {
  "kernelspec": {
   "display_name": "Python 3 (ipykernel)",
   "language": "python",
   "name": "python3"
  },
  "language_info": {
   "codemirror_mode": {
    "name": "ipython",
    "version": 3
   },
   "file_extension": ".py",
   "mimetype": "text/x-python",
   "name": "python",
   "nbconvert_exporter": "python",
   "pygments_lexer": "ipython3",
   "version": "3.10.8"
  }
 },
 "nbformat": 4,
 "nbformat_minor": 5
}
