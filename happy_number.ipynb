{
 "cells": [
  {
   "cell_type": "code",
   "execution_count": 1,
   "id": "6092eace-8b29-4573-b867-b9423945f42d",
   "metadata": {},
   "outputs": [],
   "source": [
    "import math"
   ]
  },
  {
   "cell_type": "code",
   "execution_count": 10,
   "id": "d5f766bb-7232-4dd4-b72b-8677ae8f6eb6",
   "metadata": {},
   "outputs": [
    {
     "name": "stdout",
     "output_type": "stream",
     "text": [
      "82\n",
      "68\n",
      "100\n",
      "1\n"
     ]
    }
   ],
   "source": [
    "x = 19\n",
    "\n",
    "while x != 1 and x > 1:\n",
    "    _sum = 0\n",
    "    for i in str(x):\n",
    "        _sum += int(i) * int(i)\n",
    "    x = _sum\n",
    "    if x == 1:\n",
    "        print('True')\n",
    "return False"
   ]
  },
  {
   "cell_type": "code",
   "execution_count": null,
   "id": "c05db044-5a31-47bf-8dfb-e21cbfcb4cb6",
   "metadata": {},
   "outputs": [],
   "source": []
  }
 ],
 "metadata": {
  "kernelspec": {
   "display_name": "Python 3 (ipykernel)",
   "language": "python",
   "name": "python3"
  },
  "language_info": {
   "codemirror_mode": {
    "name": "ipython",
    "version": 3
   },
   "file_extension": ".py",
   "mimetype": "text/x-python",
   "name": "python",
   "nbconvert_exporter": "python",
   "pygments_lexer": "ipython3",
   "version": "3.10.9"
  }
 },
 "nbformat": 4,
 "nbformat_minor": 5
}
