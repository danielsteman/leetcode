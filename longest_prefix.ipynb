{
 "cells": [
  {
   "cell_type": "code",
   "execution_count": 3,
   "id": "49c60ce4-eaf8-4690-8879-063af44419cb",
   "metadata": {},
   "outputs": [
    {
     "data": {
      "text/plain": [
       "4"
      ]
     },
     "execution_count": 3,
     "metadata": {},
     "output_type": "execute_result"
    }
   ],
   "source": [
    "import math\n",
    "\n",
    "strs = [\"flower\",\"flow\",\"flight\"]\n",
    "prefix = \"\"\n",
    "\n",
    "length = len(min(strs, key=len))\n",
    "length"
   ]
  },
  {
   "cell_type": "code",
   "execution_count": 10,
   "id": "4ee06110-2d59-473c-9b4c-c6cf259c7db8",
   "metadata": {},
   "outputs": [],
   "source": [
    "class Solution:\n",
    "    def preprocess_result(self, result, smallest_str):\n",
    "        if result == 0:\n",
    "            return \"\"\n",
    "        else:\n",
    "            return smallest_str[0:result]\n",
    "\n",
    "    def longestCommonPrefix(self, strs: list[str]) -> str:\n",
    "        if len(strs) == 1:\n",
    "            return strs[0]\n",
    "        count = 0\n",
    "        smallest_str = min(strs, key=len)\n",
    "        if len(smallest_str) == 0:\n",
    "            return \"\"\n",
    "        for index, char in enumerate(smallest_str):\n",
    "            for word in strs:\n",
    "                if word[index] != char:\n",
    "                    return self.preprocess_result(count, smallest_str)\n",
    "            count += 1"
   ]
  },
  {
   "cell_type": "code",
   "execution_count": 11,
   "id": "0b1b1d70",
   "metadata": {},
   "outputs": [
    {
     "data": {
      "text/plain": [
       "False"
      ]
     },
     "execution_count": 11,
     "metadata": {},
     "output_type": "execute_result"
    }
   ],
   "source": [
    "[\"\"] == None"
   ]
  },
  {
   "cell_type": "code",
   "execution_count": 12,
   "id": "44f5b10a-f106-4cb9-83e2-3541725f2007",
   "metadata": {},
   "outputs": [
    {
     "data": {
      "text/plain": [
       "'fl'"
      ]
     },
     "execution_count": 12,
     "metadata": {},
     "output_type": "execute_result"
    }
   ],
   "source": [
    "sol = Solution().longestCommonPrefix(strs)\n",
    "sol"
   ]
  },
  {
   "cell_type": "code",
   "execution_count": 14,
   "id": "0f8df9a5-f39e-4462-9487-5f80c6dd37b4",
   "metadata": {},
   "outputs": [
    {
     "data": {
      "text/plain": [
       "False"
      ]
     },
     "execution_count": 14,
     "metadata": {},
     "output_type": "execute_result"
    }
   ],
   "source": [
    "len(\"\") == None\n"
   ]
  },
  {
   "cell_type": "code",
   "execution_count": null,
   "id": "7d4c7ee7",
   "metadata": {},
   "outputs": [],
   "source": []
  }
 ],
 "metadata": {
  "kernelspec": {
   "display_name": "Python 3 (ipykernel)",
   "language": "python",
   "name": "python3"
  },
  "language_info": {
   "codemirror_mode": {
    "name": "ipython",
    "version": 3
   },
   "file_extension": ".py",
   "mimetype": "text/x-python",
   "name": "python",
   "nbconvert_exporter": "python",
   "pygments_lexer": "ipython3",
   "version": "3.12.3"
  }
 },
 "nbformat": 4,
 "nbformat_minor": 5
}
