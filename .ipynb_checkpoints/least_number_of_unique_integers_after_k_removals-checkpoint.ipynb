{
 "cells": [
  {
   "cell_type": "code",
   "execution_count": 1,
   "id": "1a76cbec-14cf-4536-8311-109e4e00c6af",
   "metadata": {},
   "outputs": [],
   "source": [
    "# Input: arr = [5,5,4], k = 1\n",
    "# Output: 1\n",
    "# Explanation: Remove the single 4, only 5 is left.\n",
    "\n",
    "# Input: arr = [4,3,1,1,3,3,2], k = 3\n",
    "# Output: 2\n",
    "# Explanation: Remove 4, 2 and either one of the two 1s or three 3s. 1 and 3 will be left."
   ]
  },
  {
   "cell_type": "code",
   "execution_count": null,
   "id": "98024fe7-16cf-4b9d-87b4-1ca5bb4ac102",
   "metadata": {},
   "outputs": [],
   "source": [
    "arr = [5,5,4]\n"
   ]
  }
 ],
 "metadata": {
  "kernelspec": {
   "display_name": "Python 3 (ipykernel)",
   "language": "python",
   "name": "python3"
  },
  "language_info": {
   "codemirror_mode": {
    "name": "ipython",
    "version": 3
   },
   "file_extension": ".py",
   "mimetype": "text/x-python",
   "name": "python",
   "nbconvert_exporter": "python",
   "pygments_lexer": "ipython3",
   "version": "3.10.8"
  }
 },
 "nbformat": 4,
 "nbformat_minor": 5
}
