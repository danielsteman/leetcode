{
 "cells": [
  {
   "cell_type": "code",
   "execution_count": 1,
   "id": "30446368-49e9-431f-b3fc-58d3ac92d45f",
   "metadata": {},
   "outputs": [],
   "source": [
    "#https://leetcode.com/problems/best-time-to-buy-and-sell-stock/?envType=study-plan&id=level-1"
   ]
  },
  {
   "cell_type": "code",
   "execution_count": 2,
   "id": "760fe4a8-0b01-48ac-b53f-8252cf65387c",
   "metadata": {},
   "outputs": [],
   "source": [
    "# Input: prices = [7,1,5,3,6,4]\n",
    "# Output: 5"
   ]
  },
  {
   "cell_type": "code",
   "execution_count": 19,
   "id": "44497681-ed05-4c30-b5aa-c6e28df11afe",
   "metadata": {},
   "outputs": [
    {
     "name": "stdout",
     "output_type": "stream",
     "text": [
      "7\n",
      "0\n",
      "7\n"
     ]
    }
   ],
   "source": [
    "prices = [7,1,5,3,6,4]\n",
    "\n",
    "def maxProfit(prices):\n",
    "    l = len(prices)\n",
    "    if l == 1:\n",
    "        return 0\n",
    "    lowest = 0\n",
    "    highest = 0\n",
    "    for i in range(l):\n",
    "        if prices[i] <= lowest:\n",
    "            lowest = prices[i]\n",
    "        elif prices[i] > highest:\n",
    "            highest = prices[i]\n",
    "    print(highest)\n",
    "    print(lowest)\n",
    "    return highest - lowest\n",
    "        \n",
    "print(maxProfit(prices))\n"
   ]
  },
  {
   "cell_type": "code",
   "execution_count": 13,
   "id": "e19d0b87-fa6b-4d87-bfb4-27dcd338f64b",
   "metadata": {},
   "outputs": [
    {
     "name": "stdout",
     "output_type": "stream",
     "text": [
      "0\n",
      "4\n",
      "4\n",
      "4\n",
      "4\n"
     ]
    }
   ],
   "source": [
    "l = len(prices)\n",
    "profit = 0\n",
    "for i in range(1,l):\n",
    "    "
   ]
  },
  {
   "cell_type": "code",
   "execution_count": null,
   "id": "03d8a687-85ed-4c42-84ff-fcfabccda999",
   "metadata": {},
   "outputs": [],
   "source": []
  }
 ],
 "metadata": {
  "kernelspec": {
   "display_name": "Python 3 (ipykernel)",
   "language": "python",
   "name": "python3"
  },
  "language_info": {
   "codemirror_mode": {
    "name": "ipython",
    "version": 3
   },
   "file_extension": ".py",
   "mimetype": "text/x-python",
   "name": "python",
   "nbconvert_exporter": "python",
   "pygments_lexer": "ipython3",
   "version": "3.10.8"
  }
 },
 "nbformat": 4,
 "nbformat_minor": 5
}
