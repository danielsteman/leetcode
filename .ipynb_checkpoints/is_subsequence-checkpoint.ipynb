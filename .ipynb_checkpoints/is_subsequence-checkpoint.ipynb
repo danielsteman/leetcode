{
 "cells": [
  {
   "cell_type": "code",
   "execution_count": 1,
   "id": "154446a1-bf32-4da7-b928-a1702258b47a",
   "metadata": {},
   "outputs": [],
   "source": [
    "# Input: s = \"abc\", t = \"ahbgdc\"\n",
    "# Output: true"
   ]
  },
  {
   "cell_type": "code",
   "execution_count": 12,
   "id": "9801ef86-6b13-4b0e-92cc-b897dee4389e",
   "metadata": {},
   "outputs": [
    {
     "name": "stdout",
     "output_type": "stream",
     "text": [
      "false\n",
      "false\n"
     ]
    }
   ],
   "source": [
    "s = \"daniel\"\n",
    "t = \"adjikasdfdasfjasfniel\"\n",
    "\n",
    "prev_i = 0\n",
    "for i in s:\n",
    "    index = t.find(i)\n",
    "    if index < prev_i:\n",
    "        print('false')\n",
    "    prev_i = index"
   ]
  },
  {
   "cell_type": "code",
   "execution_count": 19,
   "id": "4cae2447-d891-49ae-b25f-8acc143287e6",
   "metadata": {},
   "outputs": [
    {
     "ename": "IndexError",
     "evalue": "string index out of range",
     "output_type": "error",
     "traceback": [
      "\u001b[1;31m---------------------------------------------------------------------------\u001b[0m",
      "\u001b[1;31mIndexError\u001b[0m                                Traceback (most recent call last)",
      "Cell \u001b[1;32mIn [19], line 6\u001b[0m\n\u001b[0;32m      4\u001b[0m char_count \u001b[38;5;241m=\u001b[39m \u001b[38;5;241m0\u001b[39m\n\u001b[0;32m      5\u001b[0m \u001b[38;5;28;01mfor\u001b[39;00m i \u001b[38;5;129;01min\u001b[39;00m t:\n\u001b[1;32m----> 6\u001b[0m     \u001b[38;5;28;01mif\u001b[39;00m i \u001b[38;5;241m==\u001b[39m \u001b[43ms\u001b[49m\u001b[43m[\u001b[49m\u001b[43mchar_count\u001b[49m\u001b[43m]\u001b[49m:\n\u001b[0;32m      7\u001b[0m         char_count \u001b[38;5;241m+\u001b[39m\u001b[38;5;241m=\u001b[39m \u001b[38;5;241m1\u001b[39m\n\u001b[0;32m      8\u001b[0m \u001b[38;5;28;01mif\u001b[39;00m char_count \u001b[38;5;241m!=\u001b[39m \u001b[38;5;28mlen\u001b[39m(s):\n",
      "\u001b[1;31mIndexError\u001b[0m: string index out of range"
     ]
    }
   ],
   "source": [
    "s = \"daniel\"\n",
    "t = \"adjikasdfdasfjasfniellll\"\n",
    "\n",
    "char_count = 0\n",
    "for i in t:\n",
    "    if i == s[char_count]:\n",
    "        char_count += 1\n",
    "if char_count != len(s):\n",
    "    print('false')\n",
    "else:\n",
    "    print('true')"
   ]
  },
  {
   "cell_type": "code",
   "execution_count": 18,
   "id": "874ed55f-8556-4199-97ee-f37b0cd5d218",
   "metadata": {},
   "outputs": [
    {
     "data": {
      "text/plain": [
       "3"
      ]
     },
     "execution_count": 18,
     "metadata": {},
     "output_type": "execute_result"
    }
   ],
   "source": [
    "len(s)"
   ]
  },
  {
   "cell_type": "code",
   "execution_count": 20,
   "id": "1c39b1fa-8287-4779-a0b2-9fc95da4486a",
   "metadata": {},
   "outputs": [],
   "source": [
    "h = \"\""
   ]
  },
  {
   "cell_type": "code",
   "execution_count": 22,
   "id": "29026381-737d-4df3-9194-15ccf348b3c4",
   "metadata": {},
   "outputs": [
    {
     "ename": "IndexError",
     "evalue": "string index out of range",
     "output_type": "error",
     "traceback": [
      "\u001b[1;31m---------------------------------------------------------------------------\u001b[0m",
      "\u001b[1;31mIndexError\u001b[0m                                Traceback (most recent call last)",
      "Cell \u001b[1;32mIn [22], line 1\u001b[0m\n\u001b[1;32m----> 1\u001b[0m \u001b[43mh\u001b[49m\u001b[43m[\u001b[49m\u001b[38;5;241;43m0\u001b[39;49m\u001b[43m]\u001b[49m\n",
      "\u001b[1;31mIndexError\u001b[0m: string index out of range"
     ]
    }
   ],
   "source": [
    "h[0]"
   ]
  },
  {
   "cell_type": "code",
   "execution_count": 23,
   "id": "931f2161-14db-4052-a5c1-190a1454ed93",
   "metadata": {},
   "outputs": [],
   "source": [
    "class Solution:\n",
    "    def isSubsequence(self, s: str, t: str) -> bool:\n",
    "        if not s:\n",
    "            return True\n",
    "        char_count = 0\n",
    "        for i in t:\n",
    "            if i == s[char_count]:\n",
    "                char_count += 1\n",
    "            if char_count == len(s):\n",
    "                return True\n",
    "        return False"
   ]
  },
  {
   "cell_type": "code",
   "execution_count": null,
   "id": "5b39d733-bd2e-4691-b710-6f053b9b71e2",
   "metadata": {},
   "outputs": [],
   "source": []
  }
 ],
 "metadata": {
  "kernelspec": {
   "display_name": "Python 3 (ipykernel)",
   "language": "python",
   "name": "python3"
  },
  "language_info": {
   "codemirror_mode": {
    "name": "ipython",
    "version": 3
   },
   "file_extension": ".py",
   "mimetype": "text/x-python",
   "name": "python",
   "nbconvert_exporter": "python",
   "pygments_lexer": "ipython3",
   "version": "3.10.8"
  }
 },
 "nbformat": 4,
 "nbformat_minor": 5
}
