{
 "cells": [
  {
   "cell_type": "code",
   "execution_count": 1,
   "id": "00ea5614-90f7-441f-ba10-ed9aa9b3001f",
   "metadata": {},
   "outputs": [],
   "source": [
    "nums = [1,7,3,6,5,6]"
   ]
  },
  {
   "cell_type": "code",
   "execution_count": 10,
   "id": "ec705b5a-2e5a-4fe4-9089-07c0a8729840",
   "metadata": {},
   "outputs": [
    {
     "name": "stdout",
     "output_type": "stream",
     "text": [
      "num: 1\n",
      "left: 0\n",
      "right: 28\n",
      " \n",
      "num: 7\n",
      "left: 1\n",
      "right: 27\n",
      " \n",
      "num: 3\n",
      "left: 8\n",
      "right: 20\n",
      " \n",
      "num: 6\n",
      "left: 11\n",
      "right: 17\n",
      " \n",
      "num: 5\n",
      "left: 17\n",
      "right: 11\n",
      " \n",
      "num: 6\n",
      "left: 22\n",
      "right: 6\n",
      " \n"
     ]
    }
   ],
   "source": [
    "left_sum = 0\n",
    "right_sum = sum(nums)\n",
    "for i in nums:\n",
    "    print(f\"num: {i}\")\n",
    "    print(f\"left: {left_sum}\")\n",
    "    print(f\"right: {right_sum}\")\n",
    "    print(\" \")\n",
    "\n",
    "    left_sum += i\n",
    "    right_sum -= i"
   ]
  },
  {
   "cell_type": "code",
   "execution_count": 43,
   "id": "1c373254-ae4d-42d5-9c0f-c5fd9199053d",
   "metadata": {},
   "outputs": [
    {
     "name": "stdout",
     "output_type": "stream",
     "text": [
      "0\n",
      "27\n",
      "1\n",
      "20\n",
      "8\n",
      "17\n",
      "11\n",
      "11\n",
      "***3***\n",
      "17\n",
      "6\n",
      "22\n",
      "0\n"
     ]
    }
   ],
   "source": [
    "for i in range(len(nums)):\n",
    "    left = sum(nums[:i])\n",
    "    right = sum(nums[i+1:])\n",
    "    print(sum(nums[:i]))\n",
    "    print(sum(nums[i+1:]))\n",
    "    \n",
    "    if left == right:\n",
    "        print(f\"***{i}***\")"
   ]
  },
  {
   "cell_type": "code",
   "execution_count": 36,
   "id": "1f738546-8029-47eb-be9f-adbbaf6ef3b5",
   "metadata": {},
   "outputs": [
    {
     "data": {
      "text/plain": [
       "[3, 6, 5, 6]"
      ]
     },
     "execution_count": 36,
     "metadata": {},
     "output_type": "execute_result"
    }
   ],
   "source": [
    "nums[1+1:]"
   ]
  },
  {
   "cell_type": "code",
   "execution_count": 44,
   "id": "5abe20ee-fc60-46db-b0ab-b19b319dc391",
   "metadata": {},
   "outputs": [
    {
     "data": {
      "text/plain": [
       "28"
      ]
     },
     "execution_count": 44,
     "metadata": {},
     "output_type": "execute_result"
    }
   ],
   "source": [
    "sum(nums)"
   ]
  },
  {
   "cell_type": "code",
   "execution_count": 47,
   "id": "181bc39a-fc3d-4a02-bc7c-ed2aeda92912",
   "metadata": {},
   "outputs": [
    {
     "data": {
      "text/plain": [
       "[0, 1, 2, 3, 4, 5]"
      ]
     },
     "execution_count": 47,
     "metadata": {},
     "output_type": "execute_result"
    }
   ],
   "source": [
    "[i for i in range(len(nums))]"
   ]
  },
  {
   "cell_type": "code",
   "execution_count": 48,
   "id": "49713d93-d4cb-4223-b4dc-fb339f1dab20",
   "metadata": {},
   "outputs": [
    {
     "data": {
      "text/plain": [
       "6"
      ]
     },
     "execution_count": 48,
     "metadata": {},
     "output_type": "execute_result"
    }
   ],
   "source": [
    "len(nums)"
   ]
  },
  {
   "cell_type": "code",
   "execution_count": 56,
   "id": "45176ba5-a3a1-41a2-9536-d77edeb2f351",
   "metadata": {},
   "outputs": [
    {
     "name": "stdout",
     "output_type": "stream",
     "text": [
      "0\n",
      "27\n",
      "\n",
      "1\n",
      "20\n",
      "\n",
      "8\n",
      "17\n",
      "\n",
      "11\n",
      "11\n",
      "\n"
     ]
    },
    {
     "data": {
      "text/plain": [
       "3"
      ]
     },
     "execution_count": 56,
     "metadata": {},
     "output_type": "execute_result"
    }
   ],
   "source": [
    "from typing import List\n",
    "\n",
    "def pivotIndex(nums: List[int]) -> int:\n",
    "    left = 0\n",
    "    right = sum(nums)\n",
    "    for i in range(len(nums)):\n",
    "        if i != 0:\n",
    "            left += nums[i-1]\n",
    "        right -= nums[i]\n",
    "        if left == right:\n",
    "            return i\n",
    "    return -1\n",
    "\n",
    "pivotIndex([1,7,3,6,5,6])"
   ]
  },
  {
   "cell_type": "code",
   "execution_count": 54,
   "id": "3087c069-c5ef-4b51-a297-faea2550eb92",
   "metadata": {},
   "outputs": [
    {
     "data": {
      "text/plain": [
       "0"
      ]
     },
     "execution_count": 54,
     "metadata": {},
     "output_type": "execute_result"
    }
   ],
   "source": [
    "max(-1,0)"
   ]
  },
  {
   "cell_type": "code",
   "execution_count": null,
   "id": "f848e279-f3d8-4108-8d63-b0db43c2fe6e",
   "metadata": {},
   "outputs": [],
   "source": []
  }
 ],
 "metadata": {
  "kernelspec": {
   "display_name": "Python 3 (ipykernel)",
   "language": "python",
   "name": "python3"
  },
  "language_info": {
   "codemirror_mode": {
    "name": "ipython",
    "version": 3
   },
   "file_extension": ".py",
   "mimetype": "text/x-python",
   "name": "python",
   "nbconvert_exporter": "python",
   "pygments_lexer": "ipython3",
   "version": "3.10.8"
  }
 },
 "nbformat": 4,
 "nbformat_minor": 5
}
