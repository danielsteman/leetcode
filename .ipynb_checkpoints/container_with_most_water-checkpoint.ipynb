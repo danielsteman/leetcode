{
 "cells": [
  {
   "cell_type": "code",
   "execution_count": 66,
   "id": "648b5c42-074f-414e-b683-9588a79ce5b2",
   "metadata": {},
   "outputs": [
    {
     "data": {
      "text/plain": [
       "8"
      ]
     },
     "execution_count": 66,
     "metadata": {},
     "output_type": "execute_result"
    }
   ],
   "source": [
    "heights = [1,2,3,4,5,6,7,8]"
   ]
  },
  {
   "cell_type": "code",
   "execution_count": 63,
   "id": "d61273cd-c474-484e-9c41-557138c19b21",
   "metadata": {},
   "outputs": [
    {
     "name": "stdout",
     "output_type": "stream",
     "text": [
      "1\n"
     ]
    },
    {
     "ename": "IndexError",
     "evalue": "list index out of range",
     "output_type": "error",
     "traceback": [
      "\u001b[1;31m---------------------------------------------------------------------------\u001b[0m",
      "\u001b[1;31mIndexError\u001b[0m                                Traceback (most recent call last)",
      "Cell \u001b[1;32mIn [63], line 6\u001b[0m\n\u001b[0;32m      4\u001b[0m \u001b[38;5;28;01mwhile\u001b[39;00m left \u001b[38;5;241m<\u001b[39m right:\n\u001b[0;32m      5\u001b[0m     \u001b[38;5;28mprint\u001b[39m(heights[left])\n\u001b[1;32m----> 6\u001b[0m     \u001b[38;5;28mprint\u001b[39m(\u001b[43mheights\u001b[49m\u001b[43m[\u001b[49m\u001b[43mright\u001b[49m\u001b[43m]\u001b[49m)\n\u001b[0;32m      7\u001b[0m     \u001b[38;5;66;03m# area = min(heights[left], heights[right]) * (right - left)\u001b[39;00m\n\u001b[0;32m      8\u001b[0m     \u001b[38;5;66;03m# if area > max_area:\u001b[39;00m\n\u001b[0;32m      9\u001b[0m     \u001b[38;5;66;03m#     max_area = area\u001b[39;00m\n\u001b[0;32m     10\u001b[0m     \u001b[38;5;28mprint\u001b[39m(\u001b[38;5;124m\"\u001b[39m\u001b[38;5;124m\"\u001b[39m)\n",
      "\u001b[1;31mIndexError\u001b[0m: list index out of range"
     ]
    }
   ],
   "source": [
    "max_area = 0\n",
    "left = 0\n",
    "right = len(heights)\n",
    "while left < right:\n",
    "    print(heights[left])\n",
    "    print(heights[right])\n",
    "    # area = min(heights[left], heights[right]) * (right - left)\n",
    "    # if area > max_area:\n",
    "    #     max_area = area\n",
    "    print(\"\")\n",
    "    \n",
    "    left += 1\n",
    "    \n",
    "    print(heights[left])\n",
    "    print(heights[right])\n",
    "    # area = min(heights[left], heights[right]) * (right - left)\n",
    "    # if area > max_area:\n",
    "    #     max_area = area\n",
    "    print(\"\")\n",
    "    \n",
    "    right -= 1\n",
    "    \n",
    "    # area = min(heights[left], heights[right]) * (right - left)"
   ]
  },
  {
   "cell_type": "code",
   "execution_count": 51,
   "id": "fa272d9f-6727-4787-89b0-90396649cf02",
   "metadata": {},
   "outputs": [
    {
     "name": "stdout",
     "output_type": "stream",
     "text": [
      "7\n",
      "3\n",
      "8\n",
      "4\n",
      "15\n",
      "2\n",
      "6\n",
      "8\n",
      "9\n"
     ]
    }
   ],
   "source": [
    "for i in reversed(range(len(heights))):\n",
    "    print(heights[i])"
   ]
  },
  {
   "cell_type": "code",
   "execution_count": null,
   "id": "db8f5e5f-9aa7-45dc-a676-f407e46705c3",
   "metadata": {},
   "outputs": [],
   "source": []
  },
  {
   "cell_type": "code",
   "execution_count": null,
   "id": "b3398e09-8696-41b6-aa67-b4dd1bf4a6de",
   "metadata": {},
   "outputs": [],
   "source": []
  }
 ],
 "metadata": {
  "kernelspec": {
   "display_name": "Python 3 (ipykernel)",
   "language": "python",
   "name": "python3"
  },
  "language_info": {
   "codemirror_mode": {
    "name": "ipython",
    "version": 3
   },
   "file_extension": ".py",
   "mimetype": "text/x-python",
   "name": "python",
   "nbconvert_exporter": "python",
   "pygments_lexer": "ipython3",
   "version": "3.10.8"
  }
 },
 "nbformat": 4,
 "nbformat_minor": 5
}
