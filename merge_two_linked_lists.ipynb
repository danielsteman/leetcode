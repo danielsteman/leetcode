{
 "cells": [
  {
   "cell_type": "code",
   "execution_count": 1,
   "id": "0487dead-c6d7-4c7d-a6e0-7be457a77328",
   "metadata": {},
   "outputs": [],
   "source": [
    "# Input: list1 = [1,2,4], list2 = [1,3,4]\n",
    "# Output: [1,1,2,3,4,4]\n",
    "# Example 2:\n",
    "\n",
    "# Input: list1 = [], list2 = []\n",
    "# Output: []\n",
    "# Example 3:\n",
    "\n",
    "# Input: list1 = [], list2 = [0]\n",
    "# Output: [0]"
   ]
  },
  {
   "cell_type": "code",
   "execution_count": null,
   "id": "99738c80-fbe7-41e3-9111-744dada400d4",
   "metadata": {},
   "outputs": [],
   "source": []
  }
 ],
 "metadata": {
  "kernelspec": {
   "display_name": "Python 3 (ipykernel)",
   "language": "python",
   "name": "python3"
  },
  "language_info": {
   "codemirror_mode": {
    "name": "ipython",
    "version": 3
   },
   "file_extension": ".py",
   "mimetype": "text/x-python",
   "name": "python",
   "nbconvert_exporter": "python",
   "pygments_lexer": "ipython3",
   "version": "3.10.9"
  }
 },
 "nbformat": 4,
 "nbformat_minor": 5
}
