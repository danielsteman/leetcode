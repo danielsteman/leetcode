{
 "cells": [
  {
   "cell_type": "code",
   "execution_count": 30,
   "id": "cbab6905-915f-4aa1-972a-c7cee11015b7",
   "metadata": {},
   "outputs": [],
   "source": [
    "from typing import Optional\n",
    "\n",
    "\n",
    "class ListNode:\n",
    "    def __init__(self, val=0, next=None):\n",
    "        self.val = val\n",
    "        self.next = next\n",
    "\n",
    "class Solution:\n",
    "    def reverseList(self, head: Optional[ListNode]) -> Optional[ListNode]:\n",
    "        prev = None\n",
    "        current = head\n",
    "        while current:\n",
    "            next = current.next\n",
    "            current.next = prev\n",
    "            prev = current\n",
    "            current = next\n",
    "        return prev\n",
    "            \n",
    "    "
   ]
  },
  {
   "cell_type": "code",
   "execution_count": 31,
   "id": "3adc20b0-eb1a-4fe4-b991-6bd2eeb32157",
   "metadata": {},
   "outputs": [],
   "source": [
    "list_ = ListNode(0, next=ListNode(1, next=ListNode(2, next=ListNode(3))))"
   ]
  },
  {
   "cell_type": "code",
   "execution_count": 39,
   "id": "1457dd14-3171-4fb6-949e-d692ea13316d",
   "metadata": {},
   "outputs": [],
   "source": [
    "sol = Solution().reverseList(list_)"
   ]
  },
  {
   "cell_type": "code",
   "execution_count": 40,
   "id": "fcf18b4f-4afa-4773-a3d4-5500a66d7a44",
   "metadata": {},
   "outputs": [],
   "source": [
    "list_.next"
   ]
  },
  {
   "cell_type": "code",
   "execution_count": null,
   "id": "0c66ba15-038f-468d-b18f-32d6f691cc83",
   "metadata": {},
   "outputs": [],
   "source": []
  },
  {
   "cell_type": "code",
   "execution_count": null,
   "id": "ad32d2e8-580b-4880-91f5-30ad2cbdd71e",
   "metadata": {},
   "outputs": [],
   "source": []
  }
 ],
 "metadata": {
  "kernelspec": {
   "display_name": "Python 3 (ipykernel)",
   "language": "python",
   "name": "python3"
  },
  "language_info": {
   "codemirror_mode": {
    "name": "ipython",
    "version": 3
   },
   "file_extension": ".py",
   "mimetype": "text/x-python",
   "name": "python",
   "nbconvert_exporter": "python",
   "pygments_lexer": "ipython3",
   "version": "3.10.9"
  }
 },
 "nbformat": 4,
 "nbformat_minor": 5
}
