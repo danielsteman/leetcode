{
 "cells": [
  {
   "cell_type": "code",
   "execution_count": 1,
   "id": "5aa14f9c-d65d-4ba1-9fc4-96e19fca8f8f",
   "metadata": {},
   "outputs": [],
   "source": [
    "# Input: n = 2\n",
    "# Output: 2\n",
    "# Explanation: There are two ways to climb to the top.\n",
    "# 1. 1 step + 1 step\n",
    "# 2. 2 steps"
   ]
  },
  {
   "cell_type": "code",
   "execution_count": 2,
   "id": "be1881c3-8d8d-48b5-9dd8-8406cf688840",
   "metadata": {},
   "outputs": [],
   "source": [
    "# Input: n = 3\n",
    "# Output: 3\n",
    "# Explanation: There are three ways to climb to the top.\n",
    "# 1. 1 step + 1 step + 1 step\n",
    "# 2. 1 step + 2 steps\n",
    "# 3. 2 steps + 1 step"
   ]
  },
  {
   "cell_type": "code",
   "execution_count": 3,
   "id": "b274e793-de09-46dd-a53d-02800b0cbc47",
   "metadata": {},
   "outputs": [],
   "source": [
    "s = [1,2]"
   ]
  },
  {
   "cell_type": "code",
   "execution_count": 7,
   "id": "f8564852-fee9-468e-b58e-d8613314a229",
   "metadata": {},
   "outputs": [],
   "source": [
    "from itertools import combinations, permutations"
   ]
  },
  {
   "cell_type": "code",
   "execution_count": 6,
   "id": "d6b0f6be-359a-48c3-92fc-dd7f5ded83a4",
   "metadata": {},
   "outputs": [
    {
     "data": {
      "text/plain": [
       "[(1, 2)]"
      ]
     },
     "execution_count": 6,
     "metadata": {},
     "output_type": "execute_result"
    }
   ],
   "source": [
    "list(combinations(s, 2))"
   ]
  },
  {
   "cell_type": "code",
   "execution_count": 8,
   "id": "4ea4886a-db87-40b5-a4cc-2de21f4c9f1b",
   "metadata": {},
   "outputs": [
    {
     "data": {
      "text/plain": [
       "[(1, 2), (2, 1)]"
      ]
     },
     "execution_count": 8,
     "metadata": {},
     "output_type": "execute_result"
    }
   ],
   "source": [
    "list(permutations(s, 2))"
   ]
  },
  {
   "cell_type": "code",
   "execution_count": null,
   "id": "791da9da-99d2-4e0b-8b68-c8a3b8c0d60a",
   "metadata": {},
   "outputs": [],
   "source": []
  }
 ],
 "metadata": {
  "kernelspec": {
   "display_name": "Python 3 (ipykernel)",
   "language": "python",
   "name": "python3"
  },
  "language_info": {
   "codemirror_mode": {
    "name": "ipython",
    "version": 3
   },
   "file_extension": ".py",
   "mimetype": "text/x-python",
   "name": "python",
   "nbconvert_exporter": "python",
   "pygments_lexer": "ipython3",
   "version": "3.10.9"
  }
 },
 "nbformat": 4,
 "nbformat_minor": 5
}
