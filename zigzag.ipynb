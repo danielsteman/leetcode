{
 "cells": [
  {
   "cell_type": "code",
   "execution_count": 11,
   "id": "be33257a-4b59-4a23-89ac-1e932fa4052c",
   "metadata": {},
   "outputs": [],
   "source": [
    "# Input: s = \"PAYPALISHIRING\", numRows = 4\n",
    "# Output: \"PINALSIGYAHRPI\"\n",
    "# Explanation:\n",
    "# P     I    N\n",
    "# A   L S  I G\n",
    "# Y A   H R\n",
    "# P     I\n",
    "\n",
    "# 0 ,1 ,2 ,3 ,4 ,5 ,6 ,7 ,8 ,9 ,10,11,12,13\n",
    "# 0 ,6 ,12,1 ,5 ,7 ,11,13,"
   ]
  },
  {
   "cell_type": "code",
   "execution_count": 12,
   "id": "e54a14a0-c1ac-4cd6-b54d-b787c3b1735d",
   "metadata": {},
   "outputs": [],
   "source": [
    "s = \"PAYPALISHIRING\""
   ]
  },
  {
   "cell_type": "code",
   "execution_count": 17,
   "id": "0925d772-5b6d-423e-a15c-060d4db3b55b",
   "metadata": {},
   "outputs": [
    {
     "name": "stdout",
     "output_type": "stream",
     "text": [
      "PAYP\n",
      "ALISHI\n",
      "ISHI\n",
      "HIRING\n",
      "NG\n",
      "NG\n",
      "\n"
     ]
    }
   ],
   "source": [
    "import numpy as np\n",
    "\n",
    "n = 4\n",
    "space = 2\n",
    "for i in range(int(len(s)/n)+1):\n",
    "    if i == 0:\n",
    "        print(s[i * n:(i + 1) * n])\n",
    "    else:\n",
    "        print(s[i * n:(i + 1) * n + space * i])\n",
    "        print(s[i * n + space * i:(i + 1) * n + space * i])"
   ]
  },
  {
   "cell_type": "code",
   "execution_count": null,
   "id": "9af0254d-01ad-44ca-86dd-fbd913a6032f",
   "metadata": {},
   "outputs": [],
   "source": []
  },
  {
   "cell_type": "code",
   "execution_count": null,
   "id": "87913473-20a3-48c7-b0a2-1d88e1c55e00",
   "metadata": {},
   "outputs": [],
   "source": []
  }
 ],
 "metadata": {
  "kernelspec": {
   "display_name": "Python 3 (ipykernel)",
   "language": "python",
   "name": "python3"
  },
  "language_info": {
   "codemirror_mode": {
    "name": "ipython",
    "version": 3
   },
   "file_extension": ".py",
   "mimetype": "text/x-python",
   "name": "python",
   "nbconvert_exporter": "python",
   "pygments_lexer": "ipython3",
   "version": "3.10.10"
  }
 },
 "nbformat": 4,
 "nbformat_minor": 5
}
