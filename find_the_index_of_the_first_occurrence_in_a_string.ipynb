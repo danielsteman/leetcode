{
 "cells": [
  {
   "cell_type": "code",
   "execution_count": 2,
   "id": "4c631996-3ee4-4c70-91c9-39995ae8125d",
   "metadata": {},
   "outputs": [],
   "source": [
    "# Example 1:\n",
    "\n",
    "# Input: haystack = \"sadbutsad\", needle = \"sad\"\n",
    "# Output: 0\n",
    "# Explanation: \"sad\" occurs at index 0 and 6.\n",
    "# The first occurrence is at index 0, so we return 0.\n",
    "# Example 2:\n",
    "\n",
    "# Input: haystack = \"leetcode\", needle = \"leeto\"\n",
    "# Output: -1\n",
    "# Explanation: \"leeto\" did not occur in \"leetcode\", so we return -1."
   ]
  },
  {
   "cell_type": "code",
   "execution_count": 3,
   "id": "4bf60d4d-abba-4dce-9d48-e94c184b2e2c",
   "metadata": {},
   "outputs": [],
   "source": [
    "haystack = \"sadbutsad\"\n",
    "needle = \"sad\""
   ]
  },
  {
   "cell_type": "code",
   "execution_count": 4,
   "id": "7eb21976-5593-435b-b248-338db4878dc8",
   "metadata": {},
   "outputs": [
    {
     "data": {
      "text/plain": [
       "0"
      ]
     },
     "execution_count": 4,
     "metadata": {},
     "output_type": "execute_result"
    }
   ],
   "source": [
    "haystack.find(\"sad\")"
   ]
  },
  {
   "cell_type": "code",
   "execution_count": 5,
   "id": "c3a5493e-5751-4fae-9f5b-d3871039f2e3",
   "metadata": {},
   "outputs": [
    {
     "data": {
      "text/plain": [
       "-1"
      ]
     },
     "execution_count": 5,
     "metadata": {},
     "output_type": "execute_result"
    }
   ],
   "source": [
    "haystack.find(\"asfasf\")"
   ]
  },
  {
   "cell_type": "code",
   "execution_count": null,
   "id": "e35df73a-2334-47e0-866b-efc61ad04eb5",
   "metadata": {},
   "outputs": [],
   "source": []
  }
 ],
 "metadata": {
  "kernelspec": {
   "display_name": "Python 3 (ipykernel)",
   "language": "python",
   "name": "python3"
  },
  "language_info": {
   "codemirror_mode": {
    "name": "ipython",
    "version": 3
   },
   "file_extension": ".py",
   "mimetype": "text/x-python",
   "name": "python",
   "nbconvert_exporter": "python",
   "pygments_lexer": "ipython3",
   "version": "3.10.10"
  }
 },
 "nbformat": 4,
 "nbformat_minor": 5
}
